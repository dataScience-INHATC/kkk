{
 "cells": [
  {
   "cell_type": "code",
   "execution_count": 1,
   "metadata": {
    "collapsed": true
   },
   "outputs": [],
   "source": [
    "import json\n",
    "import os.path\n",
    "import pandas as pd\n",
    "import numpy as np\n",
    "\n",
    "dirPath = r'../../../DataSet/KBO/play_ScoreBoard_RawData_json/'\n",
    "\n",
    "def exportCSV(df, path):\n",
    "    df.to_csv(path, encoding='utf-8-sig', index=False)"
   ]
  },
  {
   "cell_type": "code",
   "execution_count": 2,
   "outputs": [],
   "source": [
    "BaseInfo = pd.DataFrame()\n",
    "ScoreBoard_tbl3 = pd.DataFrame()\n",
    "Game_ScoreBoard = pd.DataFrame()"
   ],
   "metadata": {
    "collapsed": false,
    "pycharm": {
     "name": "#%%\n"
    }
   }
  },
  {
   "cell_type": "markdown",
   "source": [
    "## json Parser\n",
    "BaseInfo\n",
    "ScoreBoard_tbl3\n",
    "Game_ScoreBoard\n",
    "\n",
    "### test Path\n",
    "test_path = r'../../../DataSet/KBO/play_ScoreBoard_RawData_json/0_2021_20211030WOHT0_GetScoreBoardScroll.json'\n",
    "jsobj = json.loads(open(test_path, 'r', encoding='utf-8-sig').read())"
   ],
   "metadata": {
    "collapsed": false
   }
  },
  {
   "cell_type": "code",
   "execution_count": 3,
   "outputs": [],
   "source": [
    "for fileName in sorted(os.listdir(dirPath)):\n",
    "    jsobj = json.loads(open(\n",
    "        os.path.join(dirPath,fileName),\n",
    "        'r', encoding='utf-8-sig').read())\n",
    "\n",
    "    ## Baseinfo Parsing\n",
    "    BaseInfo = BaseInfo.append(pd.json_normalize(jsobj))\n",
    "\n",
    "    ## table 3 Parsing\n",
    "    tmp = pd.DataFrame(data=pd.json_normalize(json.loads(jsobj['table3']), record_path=['rows','row'])['Text']).transpose()\n",
    "    tmp['G_ID'] = jsobj['G_ID']\n",
    "    ScoreBoard_tbl3 = ScoreBoard_tbl3.append(tmp)\n",
    "\n",
    "    ## Game_ScoreBoard Parsing\n",
    "    tmp = pd.json_normalize(pd.json_normalize(json.loads(jsobj['table2']), record_path='rows')['row']).transpose().applymap(lambda x: x['Text'])\n",
    "    tmp['INNING_CNT'] = pd.json_normalize(json.loads(jsobj['table2']), record_path=['headers', 'row'])['Text']\n",
    "    tmp.rename(columns={0:'AWAY_SCORE', 1:'HOME_SCORE'}, inplace=True)\n",
    "\n",
    "    tmp['AWAY_HOME'] = 1\n",
    "\n",
    "    tmp2 = tmp.copy()\n",
    "    tmp2['AWAY_HOME'] = 2\n",
    "\n",
    "    del tmp['HOME_SCORE']\n",
    "    del tmp2['AWAY_SCORE']\n",
    "\n",
    "    tmp.rename(columns={'AWAY_SCORE':'SCORE'}, inplace=True)\n",
    "    tmp2.rename(columns={'HOME_SCORE':'SCORE'}, inplace=True)\n",
    "\n",
    "    tmp = tmp.append(tmp2)\n",
    "    tmp['G_ID'] = jsobj['G_ID']\n",
    "\n",
    "    tmp = tmp[['G_ID', 'INNING_CNT', 'SCORE', 'AWAY_HOME']]\n",
    "    Game_ScoreBoard = Game_ScoreBoard.append(tmp)\n",
    "\n",
    "BaseInfo.reset_index(drop=True, inplace=True)\n",
    "ScoreBoard_tbl3.reset_index(drop=True, inplace=True)\n",
    "Game_ScoreBoard.reset_index(drop=True, inplace=True)\n",
    "\n",
    "Game_ScoreBoard.drop(Game_ScoreBoard.loc[Game_ScoreBoard['SCORE'] == '-'].index,inplace=True)\n",
    "\n",
    "ScoreBoard_tbl3 = ScoreBoard_tbl3[['G_ID',0,1,2,3,4,5,6,7]]\n",
    "ScoreBoard_tbl3.rename(columns={\n",
    "    0:'AWAY_R',\n",
    "    1:'AWAY_H',\n",
    "    2:'AWAY_E',\n",
    "    3:'AWAY_B',\n",
    "    4:'HOME_R',\n",
    "    5:'HOME_H',\n",
    "    6:'HOME_E',\n",
    "    7:'HOME_B'}, inplace=True)"
   ],
   "metadata": {
    "collapsed": false,
    "pycharm": {
     "name": "#%%\n"
    }
   }
  },
  {
   "cell_type": "code",
   "execution_count": 4,
   "outputs": [],
   "source": [
    "exportCSV(BaseInfo, 'BaseInfo_v2.csv')\n",
    "exportCSV(ScoreBoard_tbl3, 'ScoreBoard_tbl3_v2.csv')\n",
    "exportCSV(Game_ScoreBoard, 'Game_ScoreBoard_v2.csv')"
   ],
   "metadata": {
    "collapsed": false,
    "pycharm": {
     "name": "#%%\n"
    }
   }
  },
  {
   "cell_type": "markdown",
   "source": [
    "\n",
    "# Extra Table\n",
    "Team_idx\n",
    "Park_idx\n",
    "Game_info"
   ],
   "metadata": {
    "collapsed": false
   }
  },
  {
   "cell_type": "code",
   "execution_count": null,
   "outputs": [],
   "source": [
    "BaseInfo = pd.read_csv('BaseInfo_v2.csv')\n",
    "ScoreBoard_tbl3 = pd.read_csv('ScoreBoard_tbl3_v2.csv')\n",
    "Game_ScoreBoard = pd.read_csv('Game_ScoreBoard_v2.csv')"
   ],
   "metadata": {
    "collapsed": false,
    "pycharm": {
     "name": "#%%\n"
    }
   }
  },
  {
   "cell_type": "code",
   "execution_count": 5,
   "outputs": [],
   "source": [
    "## 팀 목록 # 10개 팀\n",
    "Team_idx = pd.DataFrame()\n",
    "i = sorted(BaseInfo['HOME_ID'].unique())\n",
    "Team_idx['TEAM_CHAR'] = pd.Series(data=i)\n",
    "Team_idx['TEAM_ID'] = pd.Series(data=list(range(51, 51 + len(i))))"
   ],
   "metadata": {
    "collapsed": false,
    "pycharm": {
     "name": "#%%\n"
    }
   }
  },
  {
   "cell_type": "code",
   "execution_count": 6,
   "outputs": [],
   "source": [
    "## 경기장 목록 # 13개 구장\n",
    "Park_idx = pd.DataFrame()\n",
    "i = sorted(BaseInfo['S_NM'].unique())\n",
    "Park_idx['S_NM'] = pd.Series(data=i)\n",
    "Park_idx['PARK_ID'] = pd.Series(data=list(range(11, 11 + len(i))))"
   ],
   "metadata": {
    "collapsed": false,
    "pycharm": {
     "name": "#%%\n"
    }
   }
  },
  {
   "cell_type": "code",
   "execution_count": 7,
   "outputs": [],
   "source": [
    "## Game_info Feature 구성\n",
    "# G_ID :: BaseInfo['G_ID']. Game id\n",
    "# START_TM :: BaseInfo['START_TM']. 경기 시작 시간\n",
    "# END_TM :: BaseInfo['END_TM']. 경기 종료 시간\n",
    "# AWAY_HOME :: 홈/어웨이 팀 구분. 어웨이:1, 홈:2\n",
    "# TEAM_ID :: Team_idx와 join. 팀 코드를 두자리 int로 구성된 ID 값으로 대체.\n",
    "# SCORE :: 해당 팀의 경기 점수 출력\n",
    "# PLAY_RESULT :: BaseInfo['T_SCORE_CN','B_SCORE_CN']의 값을 비교하여 승:3, 무:2, 패:1\n",
    "# PRAK_ID :: BaseInfo['S_NM']과 Park_idx join 수행. asos code와 동일.\n",
    "# YEAR :: G_ID 앞 4자리\n",
    "\n",
    "## GameInfo\n",
    "Game_info = pd.DataFrame()\n",
    "Game_info['G_ID'] = BaseInfo['G_ID']\n",
    "Game_info['START_TM'] = BaseInfo['START_TM']\n",
    "Game_info['END_TM'] = BaseInfo['END_TM']\n",
    "Game_info['SCORE_CNT'] = BaseInfo['T_SCORE_CN'].apply(str) + ',' + BaseInfo['B_SCORE_CN'].apply(str)\n",
    "\n",
    "Game_info['S_NM'] = BaseInfo['S_NM']\n",
    "Game_info = pd.merge(left=Game_info, right=Park_idx, on='S_NM')\n",
    "del Game_info['S_NM']\n",
    "\n",
    "# Game_info :: away\n",
    "# tmp :: home\n",
    "Game_info['AWAY_HOME'] = np.NaN\n",
    "tmp = Game_info.copy()\n",
    "Game_info['AWAY_HOME'] = 1\n",
    "tmp['AWAY_HOME'] = 2\n",
    "\n",
    "# score 기록\n",
    "Game_info['SCORE'] = Game_info['SCORE_CNT'].apply(lambda x: x.split(',')[0])\n",
    "tmp['SCORE'] = tmp['SCORE_CNT'].apply(lambda x: x.split(',')[1])\n",
    "\n",
    "# 승3 패2 무1 기록\n",
    "Game_info['SCORE_CNT'] = Game_info['SCORE_CNT'].apply(lambda x: {x.split(',')[0] > x.split(',')[1]: 3,\n",
    "                                                                 x.split(',')[0] < x.split(',')[1]: 1}.get(True, 2))\n",
    "tmp['SCORE_CNT'] = tmp['SCORE_CNT'].apply(lambda x: {x.split(',')[0] > x.split(',')[1]: 1,\n",
    "                                                     x.split(',')[0] < x.split(',')[1]: 3}.get(True, 2))\n",
    "\n",
    "# key 역할을 위한\n",
    "Game_info['TEAM_CHAR'] = Game_info['G_ID'].apply(lambda x: x[-5:-3])\n",
    "tmp['TEAM_CHAR'] = tmp['G_ID'].apply(lambda x: x[-3:-1])\n",
    "\n",
    "Game_info = Game_info.append(tmp)\n",
    "\n",
    "# year 추가\n",
    "Game_info['YEAR'] = Game_info['G_ID'].apply(lambda x: x[:4])\n",
    "\n",
    "Game_info = pd.merge(left=Game_info, right=Team_idx, on='TEAM_CHAR')\n",
    "del Game_info['TEAM_CHAR']\n",
    "\n",
    "Game_info.rename(columns={'SCORE_CNT':'PLAY_RESULT'}, inplace=True)\n",
    "Game_info.sort_values(by=['G_ID', 'AWAY_HOME'], ascending=[True, True], ignore_index=True, inplace=True)"
   ],
   "metadata": {
    "collapsed": false,
    "pycharm": {
     "name": "#%%\n"
    }
   }
  },
  {
   "cell_type": "code",
   "execution_count": 8,
   "outputs": [],
   "source": [
    "# Game_info\n",
    "# Park_idx\n",
    "# Team_idx\n",
    "\n",
    "exportCSV(Team_idx, 'Team_idx.csv')\n",
    "exportCSV(Park_idx, 'Park_idx.csv')\n",
    "exportCSV(Game_info, 'Game_info.csv')"
   ],
   "metadata": {
    "collapsed": false,
    "pycharm": {
     "name": "#%%\n"
    }
   }
  }
 ],
 "metadata": {
  "kernelspec": {
   "display_name": "Python 3",
   "language": "python",
   "name": "python3"
  },
  "language_info": {
   "codemirror_mode": {
    "name": "ipython",
    "version": 2
   },
   "file_extension": ".py",
   "mimetype": "text/x-python",
   "name": "python",
   "nbconvert_exporter": "python",
   "pygments_lexer": "ipython2",
   "version": "2.7.6"
  }
 },
 "nbformat": 4,
 "nbformat_minor": 0
}