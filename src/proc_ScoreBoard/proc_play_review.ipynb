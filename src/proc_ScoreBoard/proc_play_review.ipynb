{
 "cells": [
  {
   "cell_type": "code",
   "execution_count": 1,
   "metadata": {
    "collapsed": true
   },
   "outputs": [],
   "source": [
    "import json\n",
    "import glob\n",
    "import os.path\n",
    "import pandas as pd\n",
    "import numpy as np\n"
   ]
  },
  {
   "cell_type": "code",
   "execution_count": 2,
   "outputs": [],
   "source": [
    "def gettblData(tbl):# hitter 정보 테이블\n",
    "    li = []\n",
    "    for row in tbl['rows']:\n",
    "        subli = []\n",
    "        for r in row['row']:\n",
    "            subli.append(r['Text'])\n",
    "        li.append(subli)\n",
    "    return pd.DataFrame(li)\n",
    "\n",
    "# 타자 기록 2팀.\n",
    "def get_hitter_record(path):\n",
    "    boxscoreData = json.loads(open(path, 'r', encoding='utf-8-sig').read())\n",
    "\n",
    "    result = []\n",
    "    for hitter in boxscoreData['arrHitter']:\n",
    "        df_hitter_record = pd.DataFrame()\n",
    "        # tbl1 # 이닝/포지션/이름\n",
    "        # tbl2 # 이닝별 성적\n",
    "        # tbl3 # 타수 안타 타점 득점 타율\n",
    "        # hitter = boxscoreData['arrHitter'][1] # table1 ~ 3\n",
    "        for key in hitter: # 3구역으로 구성된 hitter 테이블을 하나씩 pick\n",
    "            tbl = json.loads(hitter[key])\n",
    "            df_hitter_record = pd.concat([df_hitter_record, gettblData(tbl)], axis=1)\n",
    "\n",
    "        # 컬럼 이름 지정\n",
    "        idx = ['이닝','포지션','선수명']\n",
    "        idx.extend([str(i+1) for i in list(range(boxscoreData['realMaxInning']))])\n",
    "        idx.extend(['타수','안타','타점','득점','타율'])\n",
    "        df_hitter_record.columns = idx\n",
    "        result.append(df_hitter_record)\n",
    "    return result\n",
    "\n",
    "def get_Pitcher_record(path):\n",
    "    boxscoreData = json.loads(open(path, 'r', encoding='utf-8-sig').read())\n",
    "    result = []\n",
    "\n",
    "    for pitcher in boxscoreData['arrPitcher']:\n",
    "        tbl = json.loads(pitcher['table'])\n",
    "        pitcher_df = gettblData(tbl)\n",
    "        pitcher_df.columns = ['선수명','등판','결과','승','패','세','이닝','타자','투구수','타수','피안타','홈런','4사구','삼진','실점','자책','평균자책점']\n",
    "        result.append(pitcher_df)\n",
    "    return result\n",
    "\n",
    "def get_Summary(path):\n",
    "    boxscoreData = json.loads(open(path, 'r', encoding='utf-8-sig').read())\n",
    "    data = json.loads(boxscoreData['tableEtc'])\n",
    "    return gettblData(data)\n",
    "\n",
    "def getScoreBoard(path):\n",
    "    data = json.loads(open(path, 'r', encoding='utf-8-sig').read())\n",
    "\n",
    "    tbl1_data = json.loads(data['table1'])\n",
    "    tbl2_data = json.loads(data['table2'])\n",
    "    tbl3_data = json.loads(data['table3'])\n",
    "\n",
    "    scoreboardDF = {}\n",
    "    scoreboardDF['away_승패'] = tbl1_data['rows'][0]['row'][0]['Text']\n",
    "    scoreboardDF['away_전적'] = tbl1_data['rows'][0]['row'][1]['Text'].split('</span>')[1]\n",
    "    inning = 1\n",
    "    for i in tbl2_data['rows'][0]['row']:\n",
    "        scoreboardDF['away_' + str(inning)] = i['Text']\n",
    "        inning += 1\n",
    "    scoreboardDF['away_R'] = tbl3_data['rows'][0]['row'][0]['Text'] # R 점수\n",
    "    scoreboardDF['away_H'] = tbl3_data['rows'][0]['row'][1]['Text'] # H 안타\n",
    "    scoreboardDF['away_E'] = tbl3_data['rows'][0]['row'][2]['Text'] # E 에러\n",
    "    scoreboardDF['away_B'] = tbl3_data['rows'][0]['row'][3]['Text'] # 볼넷 수\n",
    "\n",
    "    scoreboardDF['home_승패'] = tbl1_data['rows'][1]['row'][0]['Text']\n",
    "    scoreboardDF['home_전적'] = tbl1_data['rows'][1]['row'][1]['Text'].split('</span>')[1]\n",
    "    inning = 1\n",
    "    for i in tbl2_data['rows'][1]['row']:\n",
    "        scoreboardDF['home_' + str(inning)] = i['Text']\n",
    "        inning += 1\n",
    "    scoreboardDF['home_R'] = tbl3_data['rows'][1]['row'][0]['Text'] # R 점수\n",
    "    scoreboardDF['home_H'] = tbl3_data['rows'][1]['row'][1]['Text'] # H 안타\n",
    "    scoreboardDF['home_E'] = tbl3_data['rows'][1]['row'][2]['Text'] # E 에러\n",
    "    scoreboardDF['home_B'] = tbl3_data['rows'][1]['row'][3]['Text'] # 볼넷 수\n",
    "\n",
    "    return pd.concat([pd.DataFrame(data, index=[0]), pd.DataFrame(scoreboardDF, index=[0])], axis=1)"
   ],
   "metadata": {
    "collapsed": false,
    "pycharm": {
     "name": "#%%\n"
    }
   }
  },
  {
   "cell_type": "code",
   "execution_count": 15,
   "outputs": [
    {
     "data": {
      "text/plain": "                          0\nSR_ID                     0\nG_ID          20210403SSWO0\nG_DT             2021-04-03\nSEASON_ID              2021\nHOME_NM                  키움\nHOME_ID                  WO\nAWAY_NM                  삼성\nAWAY_ID                  SS\nS_NM                     고척\nCROWD_CN              1,665\nH_W_CN                    1\nH_L_CN                    0\nH_D_CN                    0\nA_W_CN                    0\nA_L_CN                    1\nA_D_CN                    0\nT_SCORE_CN                1\nB_SCORE_CN                6\nSTART_TM              13:59\nEND_TM                16:43\nUSE_TM                 2:44\nFULL_HOME_NM        키움 히어로즈\nFULL_AWAY_NM        삼성 라이온즈\nmaxInning                12",
      "text/html": "<div>\n<style scoped>\n    .dataframe tbody tr th:only-of-type {\n        vertical-align: middle;\n    }\n\n    .dataframe tbody tr th {\n        vertical-align: top;\n    }\n\n    .dataframe thead th {\n        text-align: right;\n    }\n</style>\n<table border=\"1\" class=\"dataframe\">\n  <thead>\n    <tr style=\"text-align: right;\">\n      <th></th>\n      <th>0</th>\n    </tr>\n  </thead>\n  <tbody>\n    <tr>\n      <th>SR_ID</th>\n      <td>0</td>\n    </tr>\n    <tr>\n      <th>G_ID</th>\n      <td>20210403SSWO0</td>\n    </tr>\n    <tr>\n      <th>G_DT</th>\n      <td>2021-04-03</td>\n    </tr>\n    <tr>\n      <th>SEASON_ID</th>\n      <td>2021</td>\n    </tr>\n    <tr>\n      <th>HOME_NM</th>\n      <td>키움</td>\n    </tr>\n    <tr>\n      <th>HOME_ID</th>\n      <td>WO</td>\n    </tr>\n    <tr>\n      <th>AWAY_NM</th>\n      <td>삼성</td>\n    </tr>\n    <tr>\n      <th>AWAY_ID</th>\n      <td>SS</td>\n    </tr>\n    <tr>\n      <th>S_NM</th>\n      <td>고척</td>\n    </tr>\n    <tr>\n      <th>CROWD_CN</th>\n      <td>1,665</td>\n    </tr>\n    <tr>\n      <th>H_W_CN</th>\n      <td>1</td>\n    </tr>\n    <tr>\n      <th>H_L_CN</th>\n      <td>0</td>\n    </tr>\n    <tr>\n      <th>H_D_CN</th>\n      <td>0</td>\n    </tr>\n    <tr>\n      <th>A_W_CN</th>\n      <td>0</td>\n    </tr>\n    <tr>\n      <th>A_L_CN</th>\n      <td>1</td>\n    </tr>\n    <tr>\n      <th>A_D_CN</th>\n      <td>0</td>\n    </tr>\n    <tr>\n      <th>T_SCORE_CN</th>\n      <td>1</td>\n    </tr>\n    <tr>\n      <th>B_SCORE_CN</th>\n      <td>6</td>\n    </tr>\n    <tr>\n      <th>START_TM</th>\n      <td>13:59</td>\n    </tr>\n    <tr>\n      <th>END_TM</th>\n      <td>16:43</td>\n    </tr>\n    <tr>\n      <th>USE_TM</th>\n      <td>2:44</td>\n    </tr>\n    <tr>\n      <th>FULL_HOME_NM</th>\n      <td>키움 히어로즈</td>\n    </tr>\n    <tr>\n      <th>FULL_AWAY_NM</th>\n      <td>삼성 라이온즈</td>\n    </tr>\n    <tr>\n      <th>maxInning</th>\n      <td>12</td>\n    </tr>\n  </tbody>\n</table>\n</div>"
     },
     "execution_count": 15,
     "metadata": {},
     "output_type": "execute_result"
    }
   ],
   "source": [
    "# SR_ID\n",
    "# 포스트 시즌 : 4\n",
    "# 시범경기 : 1\n",
    "# 정규시즌 : 0\n",
    "\n",
    "\n",
    "\n",
    "\n",
    "## test용 파일 경로\n",
    "filename1 = r'0_2021_20210403SSWO0_GetBoxScoreScroll.json'\n",
    "filename2 = r'0_2021_20210403SSWO0_GetScoreBoardScroll.json'\n",
    "boxscorePath = os.path.join(dirpath, filename1)\n",
    "scoreboardPath = os.path.join(dirpath, filename2)\n",
    "\n",
    "# get_Gameinfo(scoreboardPath)\n",
    "# getScoreboardDataFrame(scoreboardPath) # 스코어보드\n",
    "\n",
    "# get_Summary(boxscorePath) # 요약 정보\n",
    "# get_hitter_record(boxscorePath)[0] # 타자 기록 : 원정팀\n",
    "# get_hitter_record(boxscorePath)[1] # 타자 기록 : 홈팀\n",
    "# get_Pitcher_record(boxscorePath)[0] # 투수 기록 : 원정팀\n",
    "# get_Pitcher_record(boxscorePath)[1] # 투수 기록 : 홈팀"
   ],
   "metadata": {
    "collapsed": false,
    "pycharm": {
     "name": "#%%\n"
    }
   }
  },
  {
   "cell_type": "code",
   "execution_count": 12,
   "outputs": [],
   "source": [
    "\n",
    "result = pd.DataFrame()\n",
    "\n",
    "dirpath = r'..\\..\\..\\DataSet\\KBO\\play_ScoreBoard_RawData_json'\n",
    "for filename in os.listdir(dirpath):\n",
    "    if filename.__contains__('GetScoreBoardScroll') == False:\n",
    "        continue\n",
    "    path = os.path.join(dirpath,filename)\n",
    "    result = result.append(getScoreBoard(path))\n",
    "    # print(f'>>> {path} is Load Complete!!!')\n",
    "\n",
    "result.reset_index(drop=True, inplace=True)\n",
    "# result.to_csv('playReview_ScoreBoard_Rawdata.csv', encoding='utf-8-sig', index=False)"
   ],
   "metadata": {
    "collapsed": false,
    "pycharm": {
     "name": "#%%\n"
    }
   }
  },
  {
   "cell_type": "code",
   "execution_count": 13,
   "outputs": [
    {
     "data": {
      "text/plain": "      LE_ID  SR_ID           G_ID        G_DT  SEASON_ID HOME_NM HOME_ID  \\\n0         1      0  20180324HHWO0  2018-03-24       2018      넥센      WO   \n1         1      0  20180324KTHT0  2018-03-24       2018     KIA      HT   \n2         1      0  20180324LGNC0  2018-03-24       2018      NC      NC   \n3         1      0  20180324LTSK0  2018-03-24       2018      SK      SK   \n4         1      0  20180324SSOB0  2018-03-24       2018      두산      OB   \n...     ...    ...            ...         ...        ...     ...     ...   \n2876      1      0  20211030LGLT0  2021-10-30       2021      롯데      LT   \n2877      1      0  20211030OBHH0  2021-10-30       2021      한화      HH   \n2878      1      0  20211030SSNC0  2021-10-30       2021      NC      NC   \n2879      1      0  20211030WOHT0  2021-10-30       2021     KIA      HT   \n2880      1      6  20211031KTSS0  2021-10-31       2021      삼성      SS   \n\n     AWAY_NM AWAY_ID S_NM  ... home_7  home_8  home_9  home_10  home_11  \\\n0         한화      HH   고척  ...      0       0       -        -        -   \n1         KT      KT   광주  ...      0       0       0        -        -   \n2         LG      LG   마산  ...      0       2       -        -        -   \n3         롯데      LT   문학  ...      1       0       -        -        -   \n4         삼성      SS   잠실  ...      2       0       0        -        -   \n...      ...     ...  ...  ...    ...     ...     ...      ...      ...   \n2876      LG      LG   사직  ...      0       0       -        -        -   \n2877      두산      OB   대전  ...      0       0       0        -        -   \n2878      삼성      SS   창원  ...      0       0       1        -        -   \n2879      키움      WO   광주  ...      0       0       0        -        -   \n2880      KT      KT   대구  ...      0       0       0        -        -   \n\n      home_12  home_R  home_H  home_E home_B  \n0           -       6      12       1      4  \n1           -       4      12       0      4  \n2           -       4       9       0      4  \n3           -       6       8       3      7  \n4           -       3       6       0      0  \n...       ...     ...     ...     ...    ...  \n2876        -       4       9       0      4  \n2877        -       3       7       2      1  \n2878        -       5      10       1      4  \n2879        -       1       5       0      0  \n2880        -       0       2       1      3  \n\n[2881 rows x 69 columns]",
      "text/html": "<div>\n<style scoped>\n    .dataframe tbody tr th:only-of-type {\n        vertical-align: middle;\n    }\n\n    .dataframe tbody tr th {\n        vertical-align: top;\n    }\n\n    .dataframe thead th {\n        text-align: right;\n    }\n</style>\n<table border=\"1\" class=\"dataframe\">\n  <thead>\n    <tr style=\"text-align: right;\">\n      <th></th>\n      <th>LE_ID</th>\n      <th>SR_ID</th>\n      <th>G_ID</th>\n      <th>G_DT</th>\n      <th>SEASON_ID</th>\n      <th>HOME_NM</th>\n      <th>HOME_ID</th>\n      <th>AWAY_NM</th>\n      <th>AWAY_ID</th>\n      <th>S_NM</th>\n      <th>...</th>\n      <th>home_7</th>\n      <th>home_8</th>\n      <th>home_9</th>\n      <th>home_10</th>\n      <th>home_11</th>\n      <th>home_12</th>\n      <th>home_R</th>\n      <th>home_H</th>\n      <th>home_E</th>\n      <th>home_B</th>\n    </tr>\n  </thead>\n  <tbody>\n    <tr>\n      <th>0</th>\n      <td>1</td>\n      <td>0</td>\n      <td>20180324HHWO0</td>\n      <td>2018-03-24</td>\n      <td>2018</td>\n      <td>넥센</td>\n      <td>WO</td>\n      <td>한화</td>\n      <td>HH</td>\n      <td>고척</td>\n      <td>...</td>\n      <td>0</td>\n      <td>0</td>\n      <td>-</td>\n      <td>-</td>\n      <td>-</td>\n      <td>-</td>\n      <td>6</td>\n      <td>12</td>\n      <td>1</td>\n      <td>4</td>\n    </tr>\n    <tr>\n      <th>1</th>\n      <td>1</td>\n      <td>0</td>\n      <td>20180324KTHT0</td>\n      <td>2018-03-24</td>\n      <td>2018</td>\n      <td>KIA</td>\n      <td>HT</td>\n      <td>KT</td>\n      <td>KT</td>\n      <td>광주</td>\n      <td>...</td>\n      <td>0</td>\n      <td>0</td>\n      <td>0</td>\n      <td>-</td>\n      <td>-</td>\n      <td>-</td>\n      <td>4</td>\n      <td>12</td>\n      <td>0</td>\n      <td>4</td>\n    </tr>\n    <tr>\n      <th>2</th>\n      <td>1</td>\n      <td>0</td>\n      <td>20180324LGNC0</td>\n      <td>2018-03-24</td>\n      <td>2018</td>\n      <td>NC</td>\n      <td>NC</td>\n      <td>LG</td>\n      <td>LG</td>\n      <td>마산</td>\n      <td>...</td>\n      <td>0</td>\n      <td>2</td>\n      <td>-</td>\n      <td>-</td>\n      <td>-</td>\n      <td>-</td>\n      <td>4</td>\n      <td>9</td>\n      <td>0</td>\n      <td>4</td>\n    </tr>\n    <tr>\n      <th>3</th>\n      <td>1</td>\n      <td>0</td>\n      <td>20180324LTSK0</td>\n      <td>2018-03-24</td>\n      <td>2018</td>\n      <td>SK</td>\n      <td>SK</td>\n      <td>롯데</td>\n      <td>LT</td>\n      <td>문학</td>\n      <td>...</td>\n      <td>1</td>\n      <td>0</td>\n      <td>-</td>\n      <td>-</td>\n      <td>-</td>\n      <td>-</td>\n      <td>6</td>\n      <td>8</td>\n      <td>3</td>\n      <td>7</td>\n    </tr>\n    <tr>\n      <th>4</th>\n      <td>1</td>\n      <td>0</td>\n      <td>20180324SSOB0</td>\n      <td>2018-03-24</td>\n      <td>2018</td>\n      <td>두산</td>\n      <td>OB</td>\n      <td>삼성</td>\n      <td>SS</td>\n      <td>잠실</td>\n      <td>...</td>\n      <td>2</td>\n      <td>0</td>\n      <td>0</td>\n      <td>-</td>\n      <td>-</td>\n      <td>-</td>\n      <td>3</td>\n      <td>6</td>\n      <td>0</td>\n      <td>0</td>\n    </tr>\n    <tr>\n      <th>...</th>\n      <td>...</td>\n      <td>...</td>\n      <td>...</td>\n      <td>...</td>\n      <td>...</td>\n      <td>...</td>\n      <td>...</td>\n      <td>...</td>\n      <td>...</td>\n      <td>...</td>\n      <td>...</td>\n      <td>...</td>\n      <td>...</td>\n      <td>...</td>\n      <td>...</td>\n      <td>...</td>\n      <td>...</td>\n      <td>...</td>\n      <td>...</td>\n      <td>...</td>\n      <td>...</td>\n    </tr>\n    <tr>\n      <th>2876</th>\n      <td>1</td>\n      <td>0</td>\n      <td>20211030LGLT0</td>\n      <td>2021-10-30</td>\n      <td>2021</td>\n      <td>롯데</td>\n      <td>LT</td>\n      <td>LG</td>\n      <td>LG</td>\n      <td>사직</td>\n      <td>...</td>\n      <td>0</td>\n      <td>0</td>\n      <td>-</td>\n      <td>-</td>\n      <td>-</td>\n      <td>-</td>\n      <td>4</td>\n      <td>9</td>\n      <td>0</td>\n      <td>4</td>\n    </tr>\n    <tr>\n      <th>2877</th>\n      <td>1</td>\n      <td>0</td>\n      <td>20211030OBHH0</td>\n      <td>2021-10-30</td>\n      <td>2021</td>\n      <td>한화</td>\n      <td>HH</td>\n      <td>두산</td>\n      <td>OB</td>\n      <td>대전</td>\n      <td>...</td>\n      <td>0</td>\n      <td>0</td>\n      <td>0</td>\n      <td>-</td>\n      <td>-</td>\n      <td>-</td>\n      <td>3</td>\n      <td>7</td>\n      <td>2</td>\n      <td>1</td>\n    </tr>\n    <tr>\n      <th>2878</th>\n      <td>1</td>\n      <td>0</td>\n      <td>20211030SSNC0</td>\n      <td>2021-10-30</td>\n      <td>2021</td>\n      <td>NC</td>\n      <td>NC</td>\n      <td>삼성</td>\n      <td>SS</td>\n      <td>창원</td>\n      <td>...</td>\n      <td>0</td>\n      <td>0</td>\n      <td>1</td>\n      <td>-</td>\n      <td>-</td>\n      <td>-</td>\n      <td>5</td>\n      <td>10</td>\n      <td>1</td>\n      <td>4</td>\n    </tr>\n    <tr>\n      <th>2879</th>\n      <td>1</td>\n      <td>0</td>\n      <td>20211030WOHT0</td>\n      <td>2021-10-30</td>\n      <td>2021</td>\n      <td>KIA</td>\n      <td>HT</td>\n      <td>키움</td>\n      <td>WO</td>\n      <td>광주</td>\n      <td>...</td>\n      <td>0</td>\n      <td>0</td>\n      <td>0</td>\n      <td>-</td>\n      <td>-</td>\n      <td>-</td>\n      <td>1</td>\n      <td>5</td>\n      <td>0</td>\n      <td>0</td>\n    </tr>\n    <tr>\n      <th>2880</th>\n      <td>1</td>\n      <td>6</td>\n      <td>20211031KTSS0</td>\n      <td>2021-10-31</td>\n      <td>2021</td>\n      <td>삼성</td>\n      <td>SS</td>\n      <td>KT</td>\n      <td>KT</td>\n      <td>대구</td>\n      <td>...</td>\n      <td>0</td>\n      <td>0</td>\n      <td>0</td>\n      <td>-</td>\n      <td>-</td>\n      <td>-</td>\n      <td>0</td>\n      <td>2</td>\n      <td>1</td>\n      <td>3</td>\n    </tr>\n  </tbody>\n</table>\n<p>2881 rows × 69 columns</p>\n</div>"
     },
     "execution_count": 13,
     "metadata": {},
     "output_type": "execute_result"
    }
   ],
   "source": [
    "result"
   ],
   "metadata": {
    "collapsed": false,
    "pycharm": {
     "name": "#%%\n"
    }
   }
  },
  {
   "cell_type": "code",
   "execution_count": 31,
   "outputs": [
    {
     "data": {
      "text/plain": "      LE_ID  SR_ID           G_ID        G_DT  SEASON_ID HOME_NM HOME_ID  \\\n2160      1      0  20210403SSWO0  2021-04-03       2021      키움      WO   \n2161      1      0  20210404HHKT0  2021-04-04       2021      KT      KT   \n2162      1      0  20210404HTOB0  2021-04-04       2021      두산      OB   \n2163      1      0  20210404LGNC0  2021-04-04       2021      NC      NC   \n2164      1      0  20210404LTSK0  2021-04-04       2021     SSG      SK   \n...     ...    ...            ...         ...        ...     ...     ...   \n2876      1      0  20211030LGLT0  2021-10-30       2021      롯데      LT   \n2877      1      0  20211030OBHH0  2021-10-30       2021      한화      HH   \n2878      1      0  20211030SSNC0  2021-10-30       2021      NC      NC   \n2879      1      0  20211030WOHT0  2021-10-30       2021     KIA      HT   \n2880      1      6  20211031KTSS0  2021-10-31       2021      삼성      SS   \n\n     AWAY_NM AWAY_ID S_NM  ... home_7  home_8  home_9  home_10  home_11  \\\n2160      삼성      SS   고척  ...      1       0       -        -        -   \n2161      한화      HH   수원  ...      0       0       1        -        -   \n2162     KIA      HT   잠실  ...      0       4       -        -        -   \n2163      LG      LG   창원  ...      0       0       0        -        -   \n2164      롯데      LT   문학  ...      0       2       -        -        -   \n...      ...     ...  ...  ...    ...     ...     ...      ...      ...   \n2876      LG      LG   사직  ...      0       0       -        -        -   \n2877      두산      OB   대전  ...      0       0       0        -        -   \n2878      삼성      SS   창원  ...      0       0       1        -        -   \n2879      키움      WO   광주  ...      0       0       0        -        -   \n2880      KT      KT   대구  ...      0       0       0        -        -   \n\n      home_12  home_R  home_H  home_E home_B  \n2160        -       6       8       0      4  \n2161        -       3       6       0      3  \n2162        -       4       8       1      2  \n2163        -       1       6       2      5  \n2164        -       5       9       0      3  \n...       ...     ...     ...     ...    ...  \n2876        -       4       9       0      4  \n2877        -       3       7       2      1  \n2878        -       5      10       1      4  \n2879        -       1       5       0      0  \n2880        -       0       2       1      3  \n\n[721 rows x 69 columns]",
      "text/html": "<div>\n<style scoped>\n    .dataframe tbody tr th:only-of-type {\n        vertical-align: middle;\n    }\n\n    .dataframe tbody tr th {\n        vertical-align: top;\n    }\n\n    .dataframe thead th {\n        text-align: right;\n    }\n</style>\n<table border=\"1\" class=\"dataframe\">\n  <thead>\n    <tr style=\"text-align: right;\">\n      <th></th>\n      <th>LE_ID</th>\n      <th>SR_ID</th>\n      <th>G_ID</th>\n      <th>G_DT</th>\n      <th>SEASON_ID</th>\n      <th>HOME_NM</th>\n      <th>HOME_ID</th>\n      <th>AWAY_NM</th>\n      <th>AWAY_ID</th>\n      <th>S_NM</th>\n      <th>...</th>\n      <th>home_7</th>\n      <th>home_8</th>\n      <th>home_9</th>\n      <th>home_10</th>\n      <th>home_11</th>\n      <th>home_12</th>\n      <th>home_R</th>\n      <th>home_H</th>\n      <th>home_E</th>\n      <th>home_B</th>\n    </tr>\n  </thead>\n  <tbody>\n    <tr>\n      <th>2160</th>\n      <td>1</td>\n      <td>0</td>\n      <td>20210403SSWO0</td>\n      <td>2021-04-03</td>\n      <td>2021</td>\n      <td>키움</td>\n      <td>WO</td>\n      <td>삼성</td>\n      <td>SS</td>\n      <td>고척</td>\n      <td>...</td>\n      <td>1</td>\n      <td>0</td>\n      <td>-</td>\n      <td>-</td>\n      <td>-</td>\n      <td>-</td>\n      <td>6</td>\n      <td>8</td>\n      <td>0</td>\n      <td>4</td>\n    </tr>\n    <tr>\n      <th>2161</th>\n      <td>1</td>\n      <td>0</td>\n      <td>20210404HHKT0</td>\n      <td>2021-04-04</td>\n      <td>2021</td>\n      <td>KT</td>\n      <td>KT</td>\n      <td>한화</td>\n      <td>HH</td>\n      <td>수원</td>\n      <td>...</td>\n      <td>0</td>\n      <td>0</td>\n      <td>1</td>\n      <td>-</td>\n      <td>-</td>\n      <td>-</td>\n      <td>3</td>\n      <td>6</td>\n      <td>0</td>\n      <td>3</td>\n    </tr>\n    <tr>\n      <th>2162</th>\n      <td>1</td>\n      <td>0</td>\n      <td>20210404HTOB0</td>\n      <td>2021-04-04</td>\n      <td>2021</td>\n      <td>두산</td>\n      <td>OB</td>\n      <td>KIA</td>\n      <td>HT</td>\n      <td>잠실</td>\n      <td>...</td>\n      <td>0</td>\n      <td>4</td>\n      <td>-</td>\n      <td>-</td>\n      <td>-</td>\n      <td>-</td>\n      <td>4</td>\n      <td>8</td>\n      <td>1</td>\n      <td>2</td>\n    </tr>\n    <tr>\n      <th>2163</th>\n      <td>1</td>\n      <td>0</td>\n      <td>20210404LGNC0</td>\n      <td>2021-04-04</td>\n      <td>2021</td>\n      <td>NC</td>\n      <td>NC</td>\n      <td>LG</td>\n      <td>LG</td>\n      <td>창원</td>\n      <td>...</td>\n      <td>0</td>\n      <td>0</td>\n      <td>0</td>\n      <td>-</td>\n      <td>-</td>\n      <td>-</td>\n      <td>1</td>\n      <td>6</td>\n      <td>2</td>\n      <td>5</td>\n    </tr>\n    <tr>\n      <th>2164</th>\n      <td>1</td>\n      <td>0</td>\n      <td>20210404LTSK0</td>\n      <td>2021-04-04</td>\n      <td>2021</td>\n      <td>SSG</td>\n      <td>SK</td>\n      <td>롯데</td>\n      <td>LT</td>\n      <td>문학</td>\n      <td>...</td>\n      <td>0</td>\n      <td>2</td>\n      <td>-</td>\n      <td>-</td>\n      <td>-</td>\n      <td>-</td>\n      <td>5</td>\n      <td>9</td>\n      <td>0</td>\n      <td>3</td>\n    </tr>\n    <tr>\n      <th>...</th>\n      <td>...</td>\n      <td>...</td>\n      <td>...</td>\n      <td>...</td>\n      <td>...</td>\n      <td>...</td>\n      <td>...</td>\n      <td>...</td>\n      <td>...</td>\n      <td>...</td>\n      <td>...</td>\n      <td>...</td>\n      <td>...</td>\n      <td>...</td>\n      <td>...</td>\n      <td>...</td>\n      <td>...</td>\n      <td>...</td>\n      <td>...</td>\n      <td>...</td>\n      <td>...</td>\n    </tr>\n    <tr>\n      <th>2876</th>\n      <td>1</td>\n      <td>0</td>\n      <td>20211030LGLT0</td>\n      <td>2021-10-30</td>\n      <td>2021</td>\n      <td>롯데</td>\n      <td>LT</td>\n      <td>LG</td>\n      <td>LG</td>\n      <td>사직</td>\n      <td>...</td>\n      <td>0</td>\n      <td>0</td>\n      <td>-</td>\n      <td>-</td>\n      <td>-</td>\n      <td>-</td>\n      <td>4</td>\n      <td>9</td>\n      <td>0</td>\n      <td>4</td>\n    </tr>\n    <tr>\n      <th>2877</th>\n      <td>1</td>\n      <td>0</td>\n      <td>20211030OBHH0</td>\n      <td>2021-10-30</td>\n      <td>2021</td>\n      <td>한화</td>\n      <td>HH</td>\n      <td>두산</td>\n      <td>OB</td>\n      <td>대전</td>\n      <td>...</td>\n      <td>0</td>\n      <td>0</td>\n      <td>0</td>\n      <td>-</td>\n      <td>-</td>\n      <td>-</td>\n      <td>3</td>\n      <td>7</td>\n      <td>2</td>\n      <td>1</td>\n    </tr>\n    <tr>\n      <th>2878</th>\n      <td>1</td>\n      <td>0</td>\n      <td>20211030SSNC0</td>\n      <td>2021-10-30</td>\n      <td>2021</td>\n      <td>NC</td>\n      <td>NC</td>\n      <td>삼성</td>\n      <td>SS</td>\n      <td>창원</td>\n      <td>...</td>\n      <td>0</td>\n      <td>0</td>\n      <td>1</td>\n      <td>-</td>\n      <td>-</td>\n      <td>-</td>\n      <td>5</td>\n      <td>10</td>\n      <td>1</td>\n      <td>4</td>\n    </tr>\n    <tr>\n      <th>2879</th>\n      <td>1</td>\n      <td>0</td>\n      <td>20211030WOHT0</td>\n      <td>2021-10-30</td>\n      <td>2021</td>\n      <td>KIA</td>\n      <td>HT</td>\n      <td>키움</td>\n      <td>WO</td>\n      <td>광주</td>\n      <td>...</td>\n      <td>0</td>\n      <td>0</td>\n      <td>0</td>\n      <td>-</td>\n      <td>-</td>\n      <td>-</td>\n      <td>1</td>\n      <td>5</td>\n      <td>0</td>\n      <td>0</td>\n    </tr>\n    <tr>\n      <th>2880</th>\n      <td>1</td>\n      <td>6</td>\n      <td>20211031KTSS0</td>\n      <td>2021-10-31</td>\n      <td>2021</td>\n      <td>삼성</td>\n      <td>SS</td>\n      <td>KT</td>\n      <td>KT</td>\n      <td>대구</td>\n      <td>...</td>\n      <td>0</td>\n      <td>0</td>\n      <td>0</td>\n      <td>-</td>\n      <td>-</td>\n      <td>-</td>\n      <td>0</td>\n      <td>2</td>\n      <td>1</td>\n      <td>3</td>\n    </tr>\n  </tbody>\n</table>\n<p>721 rows × 69 columns</p>\n</div>"
     },
     "execution_count": 31,
     "metadata": {},
     "output_type": "execute_result"
    }
   ],
   "source": [
    "\n",
    "# result.loc[result['SEASON_ID'] == 2018].to_csv('playReview_ScoreBoard_Rawdata_2018.csv', encoding='utf-8-sig', index=False)\n",
    "# result.loc[result['SEASON_ID'] == 2019].to_csv('playReview_ScoreBoard_Rawdata_2019.csv', encoding='utf-8-sig', index=False)\n",
    "# result.loc[result['SEASON_ID'] == 2020].to_csv('playReview_ScoreBoard_Rawdata_2020.csv', encoding='utf-8-sig', index=False)\n",
    "# result.loc[result['SEASON_ID'] == 2021].to_csv('playReview_ScoreBoard_Rawdata_2021.csv', encoding='utf-8-sig', index=False)\n",
    "\n",
    "# 2018 year :: 720 rows\n",
    "# 2019 year :: 720 rows\n",
    "# 2020 year :: 720 rows\n",
    "# 2021 year :: 721 rows\n",
    "\n",
    "result.loc[result['SEASON_ID'] == 2021]"
   ],
   "metadata": {
    "collapsed": false,
    "pycharm": {
     "name": "#%%\n"
    }
   }
  },
  {
   "cell_type": "code",
   "execution_count": 22,
   "outputs": [
    {
     "data": {
      "text/plain": "LE_ID         int64\nSR_ID         int64\nG_ID         object\nG_DT         object\nSEASON_ID     int64\n              ...  \nhome_12      object\nhome_R       object\nhome_H       object\nhome_E       object\nhome_B       object\nLength: 69, dtype: object"
     },
     "execution_count": 22,
     "metadata": {},
     "output_type": "execute_result"
    }
   ],
   "source": [],
   "metadata": {
    "collapsed": false,
    "pycharm": {
     "name": "#%%\n"
    }
   }
  }
 ],
 "metadata": {
  "kernelspec": {
   "display_name": "Python 3",
   "language": "python",
   "name": "python3"
  },
  "language_info": {
   "codemirror_mode": {
    "name": "ipython",
    "version": 2
   },
   "file_extension": ".py",
   "mimetype": "text/x-python",
   "name": "python",
   "nbconvert_exporter": "python",
   "pygments_lexer": "ipython2",
   "version": "2.7.6"
  }
 },
 "nbformat": 4,
 "nbformat_minor": 0
}