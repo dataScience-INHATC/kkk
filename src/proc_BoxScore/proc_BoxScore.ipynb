{
 "cells": [
  {
   "cell_type": "code",
   "execution_count": 130,
   "outputs": [],
   "source": [
    "import json\n",
    "import glob\n",
    "import os.path\n",
    "import pandas as pd\n",
    "import numpy as np\n",
    "\n",
    "## box score 정리\n",
    "# get_Summary(boxscorePath) # 요약 정보\n",
    "# get_hitter_record(boxscorePath)[0] # 타자 기록 : 원정팀\n",
    "# get_hitter_record(boxscorePath)[1] # 타자 기록 : 홈팀\n",
    "# get_Pitcher_record(boxscorePath)[0] # 투수 기록 : 원정팀\n",
    "# get_Pitcher_record(boxscorePath)[1] # 투수 기록 : 홈팀\n",
    "\n",
    "'''\n",
    "Pitcher의 row number를 17개씩 끊어서 출력\n",
    "'''\n",
    "def getPitcherRowIdx(cnt):\n",
    "    arr = [[0, 16]]\n",
    "    while arr[-1][1]+1 != cnt:\n",
    "        arr.append([arr[-1][0]+17, arr[-1][1]+17])\n",
    "    return arr\n",
    "\n",
    "'''\n",
    "Pitcher Table Parser\n",
    "'''\n",
    "def getPitcherTbl(path):\n",
    "    j = json.loads(open(path, 'r', encoding='utf-8-sig').read())\n",
    "\n",
    "    result = pd.DataFrame()\n",
    "    if j['msg'] != '성공':\n",
    "        return result\n",
    "\n",
    "    g_id = path.split('_')[-2]\n",
    "    away_id = g_id[-5:-3]\n",
    "    home_id = g_id[-3:-1]\n",
    "\n",
    "    for listitem in j['arrPitcher']:\n",
    "        tbl = pd.json_normalize(json.loads(listitem['table']), record_path=['rows','row'])['Text']\n",
    "        tmp = pd.DataFrame()\n",
    "        for item in getPitcherRowIdx(tbl.count()):\n",
    "            tmp = tmp.append(pd.Series(tbl.loc[item[0]:item[1]]).reset_index(drop=True))\n",
    "\n",
    "        tmp.rename(columns=pd.json_normalize(json.loads(j['arrPitcher'][0]['table']), record_path=['headers','row'])['Text'], inplace=True)\n",
    "\n",
    "        tmp['G_ID'] = g_id\n",
    "        tmp['team_id'] = np.NaN\n",
    "        if len(result) == 0:\n",
    "            tmp['team_id'] = away_id\n",
    "        else:\n",
    "            tmp['team_id'].replace(np.NaN, home_id, inplace=True)\n",
    "\n",
    "        result = result.append(tmp)\n",
    "    return result"
   ],
   "metadata": {
    "collapsed": false,
    "pycharm": {
     "name": "#%%\n"
    }
   }
  },
  {
   "cell_type": "code",
   "execution_count": 134,
   "outputs": [
    {
     "data": {
      "text/plain": "       선수명   등판      결과  승  패  세     이닝  타자  투구수  타수 피안타 홈런 4사구 삼진 실점 자책  \\\nText    샘슨   선발       패  0  1  0      4  25  110  21   8  1   4  8  6  5   \nText   김범수  5.8  &nbsp;  0  0  0    2/3   3   13   3   1  0   0  1  0  0   \nText   심수창  5.2  &nbsp;  0  0  0    2/3   4   16   4   2  0   0  0  0  0   \nText   박주홍  6.6  &nbsp;  0  0  0    2/3   2    3   2   0  0   0  0  0  0   \nText   송은범  7.8  &nbsp;  0  0  0    2/3   3   14   3   1  0   0  0  0  0   \n...    ...  ...     ... .. .. ..    ...  ..  ...  ..  .. ..  .. .. .. ..   \nText   김재윤  8.9       세  0  0  0  1 2/3   5   17   5   0  0   0  0  0  0   \nText   원태인   선발       패  0  0  0      6  22   98  20   2  0   2  8  1  0   \nText   우규민  7.5  &nbsp;  0  0  0  1 2/3   5   25   5   0  0   0  3  0  0   \nText  몽고메리  8.1  &nbsp;  0  0  0      1   3    6   3   0  0   0  0  0  0   \nText   오승환  9.4  &nbsp;  0  0  0    1/3   1    2   1   0  0   0  0  0  0   \n\n      평균자책점           G_ID team_id  \nText  11.25  20180324HHWO0      HH  \nText   0.00  20180324HHWO0      HH  \nText   0.00  20180324HHWO0      HH  \nText   0.00  20180324HHWO0      HH  \nText   0.00  20180324HHWO0      HH  \n...     ...            ...     ...  \nText   0.00  20211031KTSS0      KT  \nText   0.00  20211031KTSS0      SS  \nText   0.00  20211031KTSS0      SS  \nText   0.00  20211031KTSS0      SS  \nText   0.00  20211031KTSS0      SS  \n\n[26081 rows x 19 columns]",
      "text/html": "<div>\n<style scoped>\n    .dataframe tbody tr th:only-of-type {\n        vertical-align: middle;\n    }\n\n    .dataframe tbody tr th {\n        vertical-align: top;\n    }\n\n    .dataframe thead th {\n        text-align: right;\n    }\n</style>\n<table border=\"1\" class=\"dataframe\">\n  <thead>\n    <tr style=\"text-align: right;\">\n      <th></th>\n      <th>선수명</th>\n      <th>등판</th>\n      <th>결과</th>\n      <th>승</th>\n      <th>패</th>\n      <th>세</th>\n      <th>이닝</th>\n      <th>타자</th>\n      <th>투구수</th>\n      <th>타수</th>\n      <th>피안타</th>\n      <th>홈런</th>\n      <th>4사구</th>\n      <th>삼진</th>\n      <th>실점</th>\n      <th>자책</th>\n      <th>평균자책점</th>\n      <th>G_ID</th>\n      <th>team_id</th>\n    </tr>\n  </thead>\n  <tbody>\n    <tr>\n      <th>Text</th>\n      <td>샘슨</td>\n      <td>선발</td>\n      <td>패</td>\n      <td>0</td>\n      <td>1</td>\n      <td>0</td>\n      <td>4</td>\n      <td>25</td>\n      <td>110</td>\n      <td>21</td>\n      <td>8</td>\n      <td>1</td>\n      <td>4</td>\n      <td>8</td>\n      <td>6</td>\n      <td>5</td>\n      <td>11.25</td>\n      <td>20180324HHWO0</td>\n      <td>HH</td>\n    </tr>\n    <tr>\n      <th>Text</th>\n      <td>김범수</td>\n      <td>5.8</td>\n      <td>&amp;nbsp;</td>\n      <td>0</td>\n      <td>0</td>\n      <td>0</td>\n      <td>2/3</td>\n      <td>3</td>\n      <td>13</td>\n      <td>3</td>\n      <td>1</td>\n      <td>0</td>\n      <td>0</td>\n      <td>1</td>\n      <td>0</td>\n      <td>0</td>\n      <td>0.00</td>\n      <td>20180324HHWO0</td>\n      <td>HH</td>\n    </tr>\n    <tr>\n      <th>Text</th>\n      <td>심수창</td>\n      <td>5.2</td>\n      <td>&amp;nbsp;</td>\n      <td>0</td>\n      <td>0</td>\n      <td>0</td>\n      <td>2/3</td>\n      <td>4</td>\n      <td>16</td>\n      <td>4</td>\n      <td>2</td>\n      <td>0</td>\n      <td>0</td>\n      <td>0</td>\n      <td>0</td>\n      <td>0</td>\n      <td>0.00</td>\n      <td>20180324HHWO0</td>\n      <td>HH</td>\n    </tr>\n    <tr>\n      <th>Text</th>\n      <td>박주홍</td>\n      <td>6.6</td>\n      <td>&amp;nbsp;</td>\n      <td>0</td>\n      <td>0</td>\n      <td>0</td>\n      <td>2/3</td>\n      <td>2</td>\n      <td>3</td>\n      <td>2</td>\n      <td>0</td>\n      <td>0</td>\n      <td>0</td>\n      <td>0</td>\n      <td>0</td>\n      <td>0</td>\n      <td>0.00</td>\n      <td>20180324HHWO0</td>\n      <td>HH</td>\n    </tr>\n    <tr>\n      <th>Text</th>\n      <td>송은범</td>\n      <td>7.8</td>\n      <td>&amp;nbsp;</td>\n      <td>0</td>\n      <td>0</td>\n      <td>0</td>\n      <td>2/3</td>\n      <td>3</td>\n      <td>14</td>\n      <td>3</td>\n      <td>1</td>\n      <td>0</td>\n      <td>0</td>\n      <td>0</td>\n      <td>0</td>\n      <td>0</td>\n      <td>0.00</td>\n      <td>20180324HHWO0</td>\n      <td>HH</td>\n    </tr>\n    <tr>\n      <th>...</th>\n      <td>...</td>\n      <td>...</td>\n      <td>...</td>\n      <td>...</td>\n      <td>...</td>\n      <td>...</td>\n      <td>...</td>\n      <td>...</td>\n      <td>...</td>\n      <td>...</td>\n      <td>...</td>\n      <td>...</td>\n      <td>...</td>\n      <td>...</td>\n      <td>...</td>\n      <td>...</td>\n      <td>...</td>\n      <td>...</td>\n      <td>...</td>\n    </tr>\n    <tr>\n      <th>Text</th>\n      <td>김재윤</td>\n      <td>8.9</td>\n      <td>세</td>\n      <td>0</td>\n      <td>0</td>\n      <td>0</td>\n      <td>1 2/3</td>\n      <td>5</td>\n      <td>17</td>\n      <td>5</td>\n      <td>0</td>\n      <td>0</td>\n      <td>0</td>\n      <td>0</td>\n      <td>0</td>\n      <td>0</td>\n      <td>0.00</td>\n      <td>20211031KTSS0</td>\n      <td>KT</td>\n    </tr>\n    <tr>\n      <th>Text</th>\n      <td>원태인</td>\n      <td>선발</td>\n      <td>패</td>\n      <td>0</td>\n      <td>0</td>\n      <td>0</td>\n      <td>6</td>\n      <td>22</td>\n      <td>98</td>\n      <td>20</td>\n      <td>2</td>\n      <td>0</td>\n      <td>2</td>\n      <td>8</td>\n      <td>1</td>\n      <td>0</td>\n      <td>0.00</td>\n      <td>20211031KTSS0</td>\n      <td>SS</td>\n    </tr>\n    <tr>\n      <th>Text</th>\n      <td>우규민</td>\n      <td>7.5</td>\n      <td>&amp;nbsp;</td>\n      <td>0</td>\n      <td>0</td>\n      <td>0</td>\n      <td>1 2/3</td>\n      <td>5</td>\n      <td>25</td>\n      <td>5</td>\n      <td>0</td>\n      <td>0</td>\n      <td>0</td>\n      <td>3</td>\n      <td>0</td>\n      <td>0</td>\n      <td>0.00</td>\n      <td>20211031KTSS0</td>\n      <td>SS</td>\n    </tr>\n    <tr>\n      <th>Text</th>\n      <td>몽고메리</td>\n      <td>8.1</td>\n      <td>&amp;nbsp;</td>\n      <td>0</td>\n      <td>0</td>\n      <td>0</td>\n      <td>1</td>\n      <td>3</td>\n      <td>6</td>\n      <td>3</td>\n      <td>0</td>\n      <td>0</td>\n      <td>0</td>\n      <td>0</td>\n      <td>0</td>\n      <td>0</td>\n      <td>0.00</td>\n      <td>20211031KTSS0</td>\n      <td>SS</td>\n    </tr>\n    <tr>\n      <th>Text</th>\n      <td>오승환</td>\n      <td>9.4</td>\n      <td>&amp;nbsp;</td>\n      <td>0</td>\n      <td>0</td>\n      <td>0</td>\n      <td>1/3</td>\n      <td>1</td>\n      <td>2</td>\n      <td>1</td>\n      <td>0</td>\n      <td>0</td>\n      <td>0</td>\n      <td>0</td>\n      <td>0</td>\n      <td>0</td>\n      <td>0.00</td>\n      <td>20211031KTSS0</td>\n      <td>SS</td>\n    </tr>\n  </tbody>\n</table>\n<p>26081 rows × 19 columns</p>\n</div>"
     },
     "execution_count": 134,
     "metadata": {},
     "output_type": "execute_result"
    }
   ],
   "source": [
    "BoxScore_Pitcher_Record = pd.DataFrame()\n",
    "\n",
    "dirPath = r'../../../DataSet/KBO/play_BoxScore_RawData_json'\n",
    "for fileName in sorted(os.listdir(dirPath)):\n",
    "    tmp = getPitcherTbl(os.path.join(dirPath, fileName))\n",
    "\n",
    "    if tmp.shape[0] == 0:\n",
    "        continue\n",
    "\n",
    "    BoxScore_Pitcher_Record = BoxScore_Pitcher_Record.append(tmp)\n",
    "\n",
    "# BoxScore_Pitcher_Record.to_csv('BoxScore_Pitcher_Record_V1.csv', encoding='utf-8-sig', index=False)\n",
    "# BoxScore_Pitcher_Record"
   ],
   "metadata": {
    "collapsed": false,
    "pycharm": {
     "name": "#%%\n"
    }
   }
  },
  {
   "cell_type": "code",
   "execution_count": 165,
   "outputs": [],
   "source": [
    "dirPath_ = r'../../../DataSet/KBO/play_BoxScore_RawData_json'\n",
    "fileName_ = '0_2021_20211030WOHT0_GetBoxScoreScroll.json'\n",
    "\n",
    "path = os.path.join(dirPath_, fileName_)\n",
    "\n",
    "js = json.loads(open(path, 'r', encoding='utf-8-sig').read())\n",
    "tmp = pd.json_normalize(json.loads(js['tableEtc']), record_path=['rows','row'])"
   ],
   "metadata": {
    "collapsed": false,
    "pycharm": {
     "name": "#%%\n"
    }
   }
  },
  {
   "cell_type": "code",
   "execution_count": null,
   "outputs": [],
   "source": [],
   "metadata": {
    "collapsed": false,
    "pycharm": {
     "name": "#%%\n"
    }
   }
  }
 ],
 "metadata": {
  "kernelspec": {
   "display_name": "Python 3",
   "language": "python",
   "name": "python3"
  },
  "language_info": {
   "codemirror_mode": {
    "name": "ipython",
    "version": 2
   },
   "file_extension": ".py",
   "mimetype": "text/x-python",
   "name": "python",
   "nbconvert_exporter": "python",
   "pygments_lexer": "ipython2",
   "version": "2.7.6"
  }
 },
 "nbformat": 4,
 "nbformat_minor": 0
}