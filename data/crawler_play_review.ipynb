{
 "cells": [
  {
   "cell_type": "code",
   "execution_count": 1,
   "outputs": [],
   "source": [
    "import os\n",
    "import requests\n",
    "import time"
   ],
   "metadata": {
    "collapsed": false,
    "pycharm": {
     "name": "#%%\n"
    }
   }
  },
  {
   "cell_type": "code",
   "execution_count": 2,
   "outputs": [],
   "source": [
    "\n",
    "dirpath = './teamReviewRawData_json/'\n",
    "os.makedirs(dirpath, exist_ok=True) # dir 생성\n",
    "\n",
    "cookies = {\n",
    "    '_ga': 'GA1.2.1766984198.1637652615',\n",
    "    'ASP.NET_SessionId': '2ucy2pegsvocjqjfdj4sbwq1',\n",
    "    '_gid': 'GA1.2.250701795.1641041046',\n",
    "    '_gat': '1',\n",
    "}\n",
    "\n",
    "headers = {\n",
    "    'Connection': 'keep-alive',\n",
    "    'sec-ch-ua': '\" Not A;Brand\";v=\"99\", \"Chromium\";v=\"96\", \"Google Chrome\";v=\"96\"',\n",
    "    'DNT': '1',\n",
    "    'sec-ch-ua-mobile': '?0',\n",
    "    'User-Agent': 'Mozilla/5.0 (Windows NT 10.0; Win64; x64) AppleWebKit/537.36 (KHTML, like Gecko) Chrome/96.0.4664.110 Safari/537.36',\n",
    "    'Content-Type': 'application/x-www-form-urlencoded; charset=UTF-8',\n",
    "    'Accept': 'application/json, text/javascript, */*; q=0.01',\n",
    "    'X-Requested-With': 'XMLHttpRequest',\n",
    "    'sec-ch-ua-platform': '\"Windows\"',\n",
    "    'Origin': 'https://www.koreabaseball.com',\n",
    "    'Sec-Fetch-Site': 'same-origin',\n",
    "    'Sec-Fetch-Mode': 'cors',\n",
    "    'Sec-Fetch-Dest': 'empty',\n",
    "    'Referer': 'https://www.koreabaseball.com/Schedule/GameCenter/Main.aspx',\n",
    "    'Accept-Language': 'ko-KR,ko;q=0.9,en-US;q=0.8,en;q=0.7,es;q=0.6,ja;q=0.5,pt;q=0.4',\n",
    "}\n",
    "\n",
    "data = {\n",
    "    'leId': '1',\n",
    "    'srId': '0',\n",
    "    'seasonId': '2021',\n",
    "    'gameId': '20210403SSWO0'\n",
    "}"
   ],
   "metadata": {
    "collapsed": false,
    "pycharm": {
     "name": "#%%\n"
    }
   }
  },
  {
   "cell_type": "code",
   "execution_count": 4,
   "outputs": [
    {
     "name": "stdout",
     "output_type": "stream",
     "text": [
      ">>> 20211031KTSS0_ScoreBoard is saved.\n",
      ">>> 20211031KTSS0_BoxScore is saved.\n",
      "\n",
      ">>> END <<<\n"
     ]
    }
   ],
   "source": [
    "gameidList = ['20211031KTSS0']\n",
    "encodingStr = 'utf-8-sig'\n",
    "\n",
    "for g_id in gameidList:\n",
    "    srId = data['srId']\n",
    "    data['seasonId'] = g_id[:4]\n",
    "    data['gameId'] = g_id\n",
    "    res_ScoreBoard = requests.post('https://www.koreabaseball.com/ws/Schedule.asmx/GetScoreBoardScroll', headers=headers, cookies=cookies, data=data)\n",
    "    res_BoxScore = requests.post('https://www.koreabaseball.com/ws/Schedule.asmx/GetBoxScoreScroll', headers=headers, cookies=cookies, data=data)\n",
    "    filepath1 = f'{dirpath}{srId}_{g_id[:4]}_{g_id}_GetScoreBoardScroll.json'\n",
    "    filepath2 = f'{dirpath}{srId}_{g_id[:4]}_{g_id}_GetBoxScoreScroll.json'\n",
    "\n",
    "    open(filepath1, 'w', encoding=encodingStr).write(res_ScoreBoard.text)\n",
    "    txt = f'>>> {g_id}_ScoreBoard is saved.'\n",
    "    print(txt)\n",
    "\n",
    "    open(filepath2, 'w', encoding=encodingStr).write(res_BoxScore.text)\n",
    "    txt = f'>>> {g_id}_BoxScore is saved.'\n",
    "    print(txt)\n",
    "\n",
    "    time.sleep(0.4)\n",
    "\n",
    "print('\\n>>> END <<<')"
   ],
   "metadata": {
    "collapsed": false,
    "pycharm": {
     "name": "#%%\n"
    }
   }
  }
 ],
 "metadata": {
  "kernelspec": {
   "display_name": "Python 3 (ipykernel)",
   "language": "python",
   "name": "python3"
  },
  "language_info": {
   "codemirror_mode": {
    "name": "ipython",
    "version": 3
   },
   "file_extension": ".py",
   "mimetype": "text/x-python",
   "name": "python",
   "nbconvert_exporter": "python",
   "pygments_lexer": "ipython3",
   "version": "3.9.7"
  }
 },
 "nbformat": 4,
 "nbformat_minor": 5
}