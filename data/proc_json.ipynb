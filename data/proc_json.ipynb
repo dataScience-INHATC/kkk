{
 "cells": [
  {
   "cell_type": "code",
   "execution_count": 204,
   "id": "bbd81026",
   "metadata": {},
   "outputs": [],
   "source": [
    "import json\n",
    "import glob\n",
    "import os.path\n",
    "import pandas as pd\n",
    "import numpy as np\n",
    "\n",
    "def getDF(path):\n",
    "    ## json load\n",
    "    data = json.loads(open(path, 'r', encoding='utf-8-sig').read())['rows']\n",
    "    # data = json.loads(open(path, 'r', encoding='utf-8-sig').read())\n",
    "    \n",
    "    if len(data) < 1:\n",
    "        print(f'>>> json File : \\\"{path}\\\" is Data Not Found...')\n",
    "        return None;\n",
    "    \n",
    "    df = pd.DataFrame()\n",
    "    # json 구조에서 경기정보 dataframe 변환 ###\n",
    "    for d in data:\n",
    "        tmp = pd.DataFrame(d['row'])['Text']\n",
    "        if len(d['row'])==8:\n",
    "            tmp[8] = np.NaN # 기존 인덱스 0 ~ 7.새 열을 넣고 우측으로 이동\n",
    "            tmp = tmp.shift(1) # row 전체를 우측으로 이동. col이 1개여서 row로 출력되므로 axiex\n",
    "        df = df.append(tmp, ignore_index=True)\n",
    "\n",
    "    df[9] = np.NaN\n",
    "    df = df.shift(1, axis=1)\n",
    "    df[0] = path[:-8].split('_')[-1:][0] # 파일명에서 연도를 추가\n",
    "    \n",
    "    print(f'>>> json File : \\\"{path}\\\" is Load Complete!!!')\n",
    "    return df\n",
    "\n",
    "## 연도 기간을 입력하면 해당되는 파일 목록이 출력\n",
    "# getAsosFilePath('./tmp/', ['2018', '2019'])\n",
    "# './teamRawData_json/data/0,9_2018_05.json'\n",
    "def getjsonFilePath(parDirPath, yearlist):\n",
    "    targetPathList = []\n",
    "    yearlist = set(yearlist) # 연도 목록 중복제거\n",
    "    monList = ['01','02','03','04','05','06','07','08','09','10','11','12']\n",
    "    for y in yearlist:\n",
    "        for m in monList:\n",
    "            filename = f'0,9_{y}_{m}.json'\n",
    "            fullpath = os.path.join(parDirPath, filename)\n",
    "            targetPathList.append(fullpath)\n",
    "    return targetPathList\n",
    "\n",
    "def exportCSV(df, filename):\n",
    "    df.to_csv(filename, encoding='utf-8-sig', index=False)"
   ]
  },
  {
   "cell_type": "code",
   "execution_count": 212,
   "id": "ba6bd029",
   "metadata": {},
   "outputs": [
    {
     "name": "stdout",
     "output_type": "stream",
     "text": [
      ">>> json File : \"teamScheduleRawData_json\\0,9_2018_01.json\" is Data Not Found...\n",
      ">>> json File : \"teamScheduleRawData_json\\0,9_2018_02.json\" is Data Not Found...\n",
      ">>> json File : \"teamScheduleRawData_json\\0,9_2018_03.json\" is Load Complete!!!\n",
      ">>> json File : \"teamScheduleRawData_json\\0,9_2018_04.json\" is Load Complete!!!\n",
      ">>> json File : \"teamScheduleRawData_json\\0,9_2018_05.json\" is Load Complete!!!\n",
      ">>> json File : \"teamScheduleRawData_json\\0,9_2018_06.json\" is Load Complete!!!\n",
      ">>> json File : \"teamScheduleRawData_json\\0,9_2018_07.json\" is Load Complete!!!\n",
      ">>> json File : \"teamScheduleRawData_json\\0,9_2018_08.json\" is Load Complete!!!\n",
      ">>> json File : \"teamScheduleRawData_json\\0,9_2018_09.json\" is Load Complete!!!\n",
      ">>> json File : \"teamScheduleRawData_json\\0,9_2018_10.json\" is Load Complete!!!\n",
      ">>> json File : \"teamScheduleRawData_json\\0,9_2018_11.json\" is Data Not Found...\n",
      ">>> json File : \"teamScheduleRawData_json\\0,9_2018_12.json\" is Data Not Found...\n",
      ">>> json File : \"teamScheduleRawData_json\\0,9_2019_01.json\" is Data Not Found...\n",
      ">>> json File : \"teamScheduleRawData_json\\0,9_2019_02.json\" is Data Not Found...\n",
      ">>> json File : \"teamScheduleRawData_json\\0,9_2019_03.json\" is Load Complete!!!\n",
      ">>> json File : \"teamScheduleRawData_json\\0,9_2019_04.json\" is Load Complete!!!\n",
      ">>> json File : \"teamScheduleRawData_json\\0,9_2019_05.json\" is Load Complete!!!\n",
      ">>> json File : \"teamScheduleRawData_json\\0,9_2019_06.json\" is Load Complete!!!\n",
      ">>> json File : \"teamScheduleRawData_json\\0,9_2019_07.json\" is Load Complete!!!\n",
      ">>> json File : \"teamScheduleRawData_json\\0,9_2019_08.json\" is Load Complete!!!\n",
      ">>> json File : \"teamScheduleRawData_json\\0,9_2019_09.json\" is Load Complete!!!\n",
      ">>> json File : \"teamScheduleRawData_json\\0,9_2019_10.json\" is Load Complete!!!\n",
      ">>> json File : \"teamScheduleRawData_json\\0,9_2019_11.json\" is Data Not Found...\n",
      ">>> json File : \"teamScheduleRawData_json\\0,9_2019_12.json\" is Data Not Found...\n",
      ">>> json File : \"teamScheduleRawData_json\\0,9_2020_01.json\" is Data Not Found...\n",
      ">>> json File : \"teamScheduleRawData_json\\0,9_2020_02.json\" is Data Not Found...\n",
      ">>> json File : \"teamScheduleRawData_json\\0,9_2020_03.json\" is Data Not Found...\n",
      ">>> json File : \"teamScheduleRawData_json\\0,9_2020_04.json\" is Data Not Found...\n",
      ">>> json File : \"teamScheduleRawData_json\\0,9_2020_05.json\" is Load Complete!!!\n",
      ">>> json File : \"teamScheduleRawData_json\\0,9_2020_06.json\" is Load Complete!!!\n",
      ">>> json File : \"teamScheduleRawData_json\\0,9_2020_07.json\" is Load Complete!!!\n",
      ">>> json File : \"teamScheduleRawData_json\\0,9_2020_08.json\" is Load Complete!!!\n",
      ">>> json File : \"teamScheduleRawData_json\\0,9_2020_09.json\" is Load Complete!!!\n",
      ">>> json File : \"teamScheduleRawData_json\\0,9_2020_10.json\" is Load Complete!!!\n",
      ">>> json File : \"teamScheduleRawData_json\\0,9_2020_11.json\" is Data Not Found...\n",
      ">>> json File : \"teamScheduleRawData_json\\0,9_2020_12.json\" is Data Not Found...\n",
      ">>> json File : \"teamScheduleRawData_json\\0,9_2021_01.json\" is Data Not Found...\n",
      ">>> json File : \"teamScheduleRawData_json\\0,9_2021_02.json\" is Data Not Found...\n",
      ">>> json File : \"teamScheduleRawData_json\\0,9_2021_03.json\" is Data Not Found...\n",
      ">>> json File : \"teamScheduleRawData_json\\0,9_2021_04.json\" is Load Complete!!!\n",
      ">>> json File : \"teamScheduleRawData_json\\0,9_2021_05.json\" is Load Complete!!!\n",
      ">>> json File : \"teamScheduleRawData_json\\0,9_2021_06.json\" is Load Complete!!!\n",
      ">>> json File : \"teamScheduleRawData_json\\0,9_2021_07.json\" is Load Complete!!!\n",
      ">>> json File : \"teamScheduleRawData_json\\0,9_2021_08.json\" is Load Complete!!!\n",
      ">>> json File : \"teamScheduleRawData_json\\0,9_2021_09.json\" is Load Complete!!!\n",
      ">>> json File : \"teamScheduleRawData_json\\0,9_2021_10.json\" is Load Complete!!!\n",
      ">>> json File : \"teamScheduleRawData_json\\0,9_2021_11.json\" is Data Not Found...\n",
      ">>> json File : \"teamScheduleRawData_json\\0,9_2021_12.json\" is Data Not Found...\n"
     ]
    }
   ],
   "source": [
    "\n",
    "parDirPath = r'teamScheduleRawData_json'\n",
    "yearlist = ['2018','2019','2020','2021']\n",
    "\n",
    "pathList = getjsonFilePath(parDirPath, yearlist) # 경로 생성\n",
    "pathList.sort()\n",
    "\n",
    "df_rawData = pd.DataFrame()\n",
    "for path in pathList:\n",
    "    tmp = getDF(path)\n",
    "    if type(tmp) != type(None):\n",
    "        df_rawData = df_rawData.append(tmp, ignore_index=True)\n",
    "\n",
    "df_rawData.columns = ['연도','날짜','시간','경기','게임센터','하이라이트','TV','라디오','구장','비고']\n",
    "# df_rawData # 연도 추가, 컬럼 shift만 수행한 raw data\n",
    "# exportCSV(df_rawData, 'ScheduleList_rawdata_v1.csv')\n",
    "\n",
    "## 2018 : 762\n",
    "## 2019 : 781\n",
    "## 2020 : 788\n",
    "## 2021 : 856\n"
   ]
  },
  {
   "cell_type": "code",
   "execution_count": 215,
   "outputs": [
    {
     "data": {
      "text/plain": "        연도        날짜     시간          경기  \\\n0     2018  03.24(토)  14:00   LG,2,4,NC   \n1     2018  03.24(토)  14:00   삼성,6,3,두산   \n2     2018  03.24(토)  14:00   롯데,5,6,SK   \n3     2018  03.24(토)  14:00  KT,5,4,KIA   \n4     2018  03.24(토)  14:00   한화,3,6,넥센   \n...    ...       ...    ...         ...   \n3182  2021  10.30(토)  17:00   LG,2,4,롯데   \n3183  2021  10.30(토)  17:00  삼성,11,5,NC   \n3184  2021  10.30(토)  17:00  키움,6,1,KIA   \n3185  2021  10.30(토)  17:00   두산,5,3,한화   \n3186  2021  10.31(일)  14:00   KT,1,0,삼성   \n\n                                                   게임센터  \\\n0     <a href='/Schedule/GameCenter/Main.aspx?gameDa...   \n1     <a href='/Schedule/GameCenter/Main.aspx?gameDa...   \n2     <a href='/Schedule/GameCenter/Main.aspx?gameDa...   \n3     <a href='/Schedule/GameCenter/Main.aspx?gameDa...   \n4     <a href='/Schedule/GameCenter/Main.aspx?gameDa...   \n...                                                 ...   \n3182  <a href='/Schedule/GameCenter/Main.aspx?gameDa...   \n3183  <a href='/Schedule/GameCenter/Main.aspx?gameDa...   \n3184  <a href='/Schedule/GameCenter/Main.aspx?gameDa...   \n3185  <a href='/Schedule/GameCenter/Main.aspx?gameDa...   \n3186  <a href='/Schedule/GameCenter/Main.aspx?gameDa...   \n\n                                                  하이라이트               TV  \\\n0     <a href='/Schedule/GameCenter/Main.aspx?gameDa...       KN-T,SPO-T   \n1     <a href='/Schedule/GameCenter/Main.aspx?gameDa...              S-T   \n2     <a href='/Schedule/GameCenter/Main.aspx?gameDa...              M-T   \n3     <a href='/Schedule/GameCenter/Main.aspx?gameDa...             K-2T   \n4     <a href='/Schedule/GameCenter/Main.aspx?gameDa...      MS-T,SPO-2T   \n...                                                 ...              ...   \n3182  <a href='/Schedule/GameCenter/Main.aspx?gameDa...           SPO-2T   \n3183  <a href='/Schedule/GameCenter/Main.aspx?gameDa...             SS-T   \n3184  <a href='/Schedule/GameCenter/Main.aspx?gameDa...       KN-T,G-CMB   \n3185  <a href='/Schedule/GameCenter/Main.aspx?gameDa...       MS-T,D-CMB   \n3186  <a href='/Schedule/GameCenter/Main.aspx?gameDa...  KN-T,MS-T,SPO-T   \n\n             라디오  구장 비고         gameId away away_score home home_score  \n0     KNN-R,GM-R  마산  -  20180324LGNC0   LG          2   NC          4  \n1       T-R,DM-R  잠실  -  20180324SSOB0   삼성          6   두산          3  \n2     KNN-R,PM-R  문학  -  20180324LTSK0   롯데          5   SK          6  \n3          KBC-R  광주  -  20180324KTHT0   KT          5  KIA          4  \n4            S-R  고척  -  20180324HHWO0   한화          3   넥센          6  \n...          ...  .. ..            ...  ...        ...  ...        ...  \n3182       KNN-R  사직  -  20211030LGLT0   LG          2   롯데          4  \n3183         T-R  창원  -  20211030SSNC0   삼성         11   NC          5  \n3184              광주  -  20211030WOHT0   키움          6  KIA          1  \n3185              대전  -  20211030OBHH0   두산          5   한화          3  \n3186              대구  -  20211031KTSS0   KT          1   삼성          0  \n\n[3187 rows x 15 columns]",
      "text/html": "<div>\n<style scoped>\n    .dataframe tbody tr th:only-of-type {\n        vertical-align: middle;\n    }\n\n    .dataframe tbody tr th {\n        vertical-align: top;\n    }\n\n    .dataframe thead th {\n        text-align: right;\n    }\n</style>\n<table border=\"1\" class=\"dataframe\">\n  <thead>\n    <tr style=\"text-align: right;\">\n      <th></th>\n      <th>연도</th>\n      <th>날짜</th>\n      <th>시간</th>\n      <th>경기</th>\n      <th>게임센터</th>\n      <th>하이라이트</th>\n      <th>TV</th>\n      <th>라디오</th>\n      <th>구장</th>\n      <th>비고</th>\n      <th>gameId</th>\n      <th>away</th>\n      <th>away_score</th>\n      <th>home</th>\n      <th>home_score</th>\n    </tr>\n  </thead>\n  <tbody>\n    <tr>\n      <th>0</th>\n      <td>2018</td>\n      <td>03.24(토)</td>\n      <td>14:00</td>\n      <td>LG,2,4,NC</td>\n      <td>&lt;a href='/Schedule/GameCenter/Main.aspx?gameDa...</td>\n      <td>&lt;a href='/Schedule/GameCenter/Main.aspx?gameDa...</td>\n      <td>KN-T,SPO-T</td>\n      <td>KNN-R,GM-R</td>\n      <td>마산</td>\n      <td>-</td>\n      <td>20180324LGNC0</td>\n      <td>LG</td>\n      <td>2</td>\n      <td>NC</td>\n      <td>4</td>\n    </tr>\n    <tr>\n      <th>1</th>\n      <td>2018</td>\n      <td>03.24(토)</td>\n      <td>14:00</td>\n      <td>삼성,6,3,두산</td>\n      <td>&lt;a href='/Schedule/GameCenter/Main.aspx?gameDa...</td>\n      <td>&lt;a href='/Schedule/GameCenter/Main.aspx?gameDa...</td>\n      <td>S-T</td>\n      <td>T-R,DM-R</td>\n      <td>잠실</td>\n      <td>-</td>\n      <td>20180324SSOB0</td>\n      <td>삼성</td>\n      <td>6</td>\n      <td>두산</td>\n      <td>3</td>\n    </tr>\n    <tr>\n      <th>2</th>\n      <td>2018</td>\n      <td>03.24(토)</td>\n      <td>14:00</td>\n      <td>롯데,5,6,SK</td>\n      <td>&lt;a href='/Schedule/GameCenter/Main.aspx?gameDa...</td>\n      <td>&lt;a href='/Schedule/GameCenter/Main.aspx?gameDa...</td>\n      <td>M-T</td>\n      <td>KNN-R,PM-R</td>\n      <td>문학</td>\n      <td>-</td>\n      <td>20180324LTSK0</td>\n      <td>롯데</td>\n      <td>5</td>\n      <td>SK</td>\n      <td>6</td>\n    </tr>\n    <tr>\n      <th>3</th>\n      <td>2018</td>\n      <td>03.24(토)</td>\n      <td>14:00</td>\n      <td>KT,5,4,KIA</td>\n      <td>&lt;a href='/Schedule/GameCenter/Main.aspx?gameDa...</td>\n      <td>&lt;a href='/Schedule/GameCenter/Main.aspx?gameDa...</td>\n      <td>K-2T</td>\n      <td>KBC-R</td>\n      <td>광주</td>\n      <td>-</td>\n      <td>20180324KTHT0</td>\n      <td>KT</td>\n      <td>5</td>\n      <td>KIA</td>\n      <td>4</td>\n    </tr>\n    <tr>\n      <th>4</th>\n      <td>2018</td>\n      <td>03.24(토)</td>\n      <td>14:00</td>\n      <td>한화,3,6,넥센</td>\n      <td>&lt;a href='/Schedule/GameCenter/Main.aspx?gameDa...</td>\n      <td>&lt;a href='/Schedule/GameCenter/Main.aspx?gameDa...</td>\n      <td>MS-T,SPO-2T</td>\n      <td>S-R</td>\n      <td>고척</td>\n      <td>-</td>\n      <td>20180324HHWO0</td>\n      <td>한화</td>\n      <td>3</td>\n      <td>넥센</td>\n      <td>6</td>\n    </tr>\n    <tr>\n      <th>...</th>\n      <td>...</td>\n      <td>...</td>\n      <td>...</td>\n      <td>...</td>\n      <td>...</td>\n      <td>...</td>\n      <td>...</td>\n      <td>...</td>\n      <td>...</td>\n      <td>...</td>\n      <td>...</td>\n      <td>...</td>\n      <td>...</td>\n      <td>...</td>\n      <td>...</td>\n    </tr>\n    <tr>\n      <th>3182</th>\n      <td>2021</td>\n      <td>10.30(토)</td>\n      <td>17:00</td>\n      <td>LG,2,4,롯데</td>\n      <td>&lt;a href='/Schedule/GameCenter/Main.aspx?gameDa...</td>\n      <td>&lt;a href='/Schedule/GameCenter/Main.aspx?gameDa...</td>\n      <td>SPO-2T</td>\n      <td>KNN-R</td>\n      <td>사직</td>\n      <td>-</td>\n      <td>20211030LGLT0</td>\n      <td>LG</td>\n      <td>2</td>\n      <td>롯데</td>\n      <td>4</td>\n    </tr>\n    <tr>\n      <th>3183</th>\n      <td>2021</td>\n      <td>10.30(토)</td>\n      <td>17:00</td>\n      <td>삼성,11,5,NC</td>\n      <td>&lt;a href='/Schedule/GameCenter/Main.aspx?gameDa...</td>\n      <td>&lt;a href='/Schedule/GameCenter/Main.aspx?gameDa...</td>\n      <td>SS-T</td>\n      <td>T-R</td>\n      <td>창원</td>\n      <td>-</td>\n      <td>20211030SSNC0</td>\n      <td>삼성</td>\n      <td>11</td>\n      <td>NC</td>\n      <td>5</td>\n    </tr>\n    <tr>\n      <th>3184</th>\n      <td>2021</td>\n      <td>10.30(토)</td>\n      <td>17:00</td>\n      <td>키움,6,1,KIA</td>\n      <td>&lt;a href='/Schedule/GameCenter/Main.aspx?gameDa...</td>\n      <td>&lt;a href='/Schedule/GameCenter/Main.aspx?gameDa...</td>\n      <td>KN-T,G-CMB</td>\n      <td></td>\n      <td>광주</td>\n      <td>-</td>\n      <td>20211030WOHT0</td>\n      <td>키움</td>\n      <td>6</td>\n      <td>KIA</td>\n      <td>1</td>\n    </tr>\n    <tr>\n      <th>3185</th>\n      <td>2021</td>\n      <td>10.30(토)</td>\n      <td>17:00</td>\n      <td>두산,5,3,한화</td>\n      <td>&lt;a href='/Schedule/GameCenter/Main.aspx?gameDa...</td>\n      <td>&lt;a href='/Schedule/GameCenter/Main.aspx?gameDa...</td>\n      <td>MS-T,D-CMB</td>\n      <td></td>\n      <td>대전</td>\n      <td>-</td>\n      <td>20211030OBHH0</td>\n      <td>두산</td>\n      <td>5</td>\n      <td>한화</td>\n      <td>3</td>\n    </tr>\n    <tr>\n      <th>3186</th>\n      <td>2021</td>\n      <td>10.31(일)</td>\n      <td>14:00</td>\n      <td>KT,1,0,삼성</td>\n      <td>&lt;a href='/Schedule/GameCenter/Main.aspx?gameDa...</td>\n      <td>&lt;a href='/Schedule/GameCenter/Main.aspx?gameDa...</td>\n      <td>KN-T,MS-T,SPO-T</td>\n      <td></td>\n      <td>대구</td>\n      <td>-</td>\n      <td>20211031KTSS0</td>\n      <td>KT</td>\n      <td>1</td>\n      <td>삼성</td>\n      <td>0</td>\n    </tr>\n  </tbody>\n</table>\n<p>3187 rows × 15 columns</p>\n</div>"
     },
     "execution_count": 215,
     "metadata": {},
     "output_type": "execute_result"
    }
   ],
   "source": [
    "df_rawData.replace('<b>', '', regex=True, inplace=True)\n",
    "df_rawData.replace('</b>', '', regex=True, inplace=True)\n",
    "df_rawData['경기'] = df_rawData['경기'].apply(lambda x: x.strip().replace('vs',',')\n",
    "                            .replace('<em>',',')\n",
    "                            .replace('</em>',',')\n",
    "                            .replace('<span class=\"lose\">','')\n",
    "                            .replace('<span class=\"win\">','')\n",
    "                            .replace('<span class=\"same\">','')\n",
    "                            .replace('<span>','')\n",
    "                            .replace('</span>',''))\n",
    "\n",
    "df_rawData['TV'].replace('<br />', ',', regex=True, inplace=True) ## tv(방송국) 구분자 컷마로 변경\n",
    "df_rawData['라디오'].replace('<br />', ',', regex=True, inplace=True) ## 라디오 방송국 구분자 컷마로 변경\n",
    "df_rawData['날짜'].fillna(method='ffill', inplace=True) ## 게임센터의 날짜와 일치여부 확인 필요\n",
    "\n",
    "df_rawData['gameId'] = df_rawData['게임센터'].apply(lambda x: str(x).split('gameId=')[-1].split('&')[0])\n",
    "df_rawData['away'] = df_rawData['경기'].apply(lambda x: x.split(',')[0])\n",
    "df_rawData['away_score'] = df_rawData['경기'].apply(lambda x: x.split(',')[1])\n",
    "df_rawData['home'] = df_rawData['경기'].apply(lambda x: x.split(',')[3])\n",
    "df_rawData['home_score'] = df_rawData['경기'].apply(lambda x: x.split(',')[2])\n",
    "exportCSV(df_rawData, 'ScheduleList_rawdata_v3.csv')\n",
    "df_rawData"
   ],
   "metadata": {
    "collapsed": false,
    "pycharm": {
     "name": "#%%\n"
    }
   }
  },
  {
   "cell_type": "code",
   "execution_count": 17,
   "outputs": [],
   "source": [
    "\n",
    "## 연월일 시간 합체. dtype datetime으로 변경\n",
    "## 1) 날짜에서 괄호를 포함한 요일 지우고\n",
    "# tmp['날짜'] = tmp['날짜'].apply(lambda x: x if x.find('(') == -1 else x[:x.find('(')]) ## 요일 삭제\n",
    "## 2) 연도로 모두 통합\n",
    "# tmp['연도'] = tmp['연도'] + '.' + tmp['날짜'] + ' ' + tmp['시간']\n",
    "## 3) 연도 컬럼의 타입을 datetime으로 변경\n",
    "# tmp['연도'] = pd.to_datetime(tmp['연도'])\n",
    "\n",
    "# tmp['비고'].unique() # >> array(['-', '우천취소', '미세먼지취소', '그라운드사정', '강풍취소', '기타'], dtype=object)\n",
    "# tmp[tmp['비고'] != '-'] ## 취소경기 304건 조회. 모두 review 미존재\n",
    "\n",
    "## 필터\n",
    "# con1 = tmp['비고'] == '-'\n",
    "# con2 = ~tmp['경기'].str.contains('드림|나눔')\n",
    "# gameidList = list(tmp.loc[con1 & con2]['gameId'])"
   ],
   "metadata": {
    "collapsed": false,
    "pycharm": {
     "name": "#%%\n"
    }
   }
  },
  {
   "cell_type": "code",
   "execution_count": 768,
   "outputs": [
    {
     "data": {
      "text/plain": "(24, 1)"
     },
     "execution_count": 768,
     "metadata": {},
     "output_type": "execute_result"
    }
   ],
   "source": [],
   "metadata": {
    "collapsed": false,
    "pycharm": {
     "name": "#%%\n"
    }
   }
  },
  {
   "cell_type": "code",
   "execution_count": 767,
   "outputs": [
    {
     "data": {
      "text/plain": "                          0                                                  뜻\nSR_ID                     0                        포스트 시즌(4), 시범경기(1), 정규시즌(0)\nG_ID          20210404HTOB0  게임의 고유 ID. 연월일 + 원정팀 구단코드(2자리) + 홈팀 구단코드(2자리) + 0\nG_DT             2021-04-04                                          경기날짜(연월일)\nSEASON_ID              2021                                                 연도\nHOME_NM                  두산                                              홈팀 이름\nHOME_ID                  OB                                         홈팀 ID(2자리)\nAWAY_NM                 KIA                                             원정팀 이름\nAWAY_ID                  HT                                        원정팀 ID(2자리)\nS_NM                     잠실                                                경기장\nCROWD_CN              2,410                                                관객수\nH_W_CN                    1                                           홈팀 전적(승)\nH_L_CN                    0                                           홈팀 전적(패)\nH_D_CN                    0                                           홈팀 전적(무)\nA_W_CN                    0                                          원정팀 전적(승)\nA_L_CN                    1                                          원정팀 전적(패)\nA_D_CN                    0                                          원정팀 전적(무)\nT_SCORE_CN                1                                   현재 경기의 원정팀 최종 점수\nB_SCORE_CN                4                                    현재 경기의 홈팀 최종 점수\nSTART_TM              13:59                                           경기 시작 시간\nEND_TM                16:59                                           경기 종료 시간\nUSE_TM                 3:00                                           경기 진행 시간\nFULL_HOME_NM         두산 베어스                                           홈팀 전체 이름\nFULL_AWAY_NM       KIA 타이거즈                                          원정팀 전체 이름\nmaxInning                12                                             최대 이닝수",
      "text/html": "<div>\n<style scoped>\n    .dataframe tbody tr th:only-of-type {\n        vertical-align: middle;\n    }\n\n    .dataframe tbody tr th {\n        vertical-align: top;\n    }\n\n    .dataframe thead th {\n        text-align: right;\n    }\n</style>\n<table border=\"1\" class=\"dataframe\">\n  <thead>\n    <tr style=\"text-align: right;\">\n      <th></th>\n      <th>0</th>\n      <th>뜻</th>\n    </tr>\n  </thead>\n  <tbody>\n    <tr>\n      <th>SR_ID</th>\n      <td>0</td>\n      <td>포스트 시즌(4), 시범경기(1), 정규시즌(0)</td>\n    </tr>\n    <tr>\n      <th>G_ID</th>\n      <td>20210404HTOB0</td>\n      <td>게임의 고유 ID. 연월일 + 원정팀 구단코드(2자리) + 홈팀 구단코드(2자리) + 0</td>\n    </tr>\n    <tr>\n      <th>G_DT</th>\n      <td>2021-04-04</td>\n      <td>경기날짜(연월일)</td>\n    </tr>\n    <tr>\n      <th>SEASON_ID</th>\n      <td>2021</td>\n      <td>연도</td>\n    </tr>\n    <tr>\n      <th>HOME_NM</th>\n      <td>두산</td>\n      <td>홈팀 이름</td>\n    </tr>\n    <tr>\n      <th>HOME_ID</th>\n      <td>OB</td>\n      <td>홈팀 ID(2자리)</td>\n    </tr>\n    <tr>\n      <th>AWAY_NM</th>\n      <td>KIA</td>\n      <td>원정팀 이름</td>\n    </tr>\n    <tr>\n      <th>AWAY_ID</th>\n      <td>HT</td>\n      <td>원정팀 ID(2자리)</td>\n    </tr>\n    <tr>\n      <th>S_NM</th>\n      <td>잠실</td>\n      <td>경기장</td>\n    </tr>\n    <tr>\n      <th>CROWD_CN</th>\n      <td>2,410</td>\n      <td>관객수</td>\n    </tr>\n    <tr>\n      <th>H_W_CN</th>\n      <td>1</td>\n      <td>홈팀 전적(승)</td>\n    </tr>\n    <tr>\n      <th>H_L_CN</th>\n      <td>0</td>\n      <td>홈팀 전적(패)</td>\n    </tr>\n    <tr>\n      <th>H_D_CN</th>\n      <td>0</td>\n      <td>홈팀 전적(무)</td>\n    </tr>\n    <tr>\n      <th>A_W_CN</th>\n      <td>0</td>\n      <td>원정팀 전적(승)</td>\n    </tr>\n    <tr>\n      <th>A_L_CN</th>\n      <td>1</td>\n      <td>원정팀 전적(패)</td>\n    </tr>\n    <tr>\n      <th>A_D_CN</th>\n      <td>0</td>\n      <td>원정팀 전적(무)</td>\n    </tr>\n    <tr>\n      <th>T_SCORE_CN</th>\n      <td>1</td>\n      <td>현재 경기의 원정팀 최종 점수</td>\n    </tr>\n    <tr>\n      <th>B_SCORE_CN</th>\n      <td>4</td>\n      <td>현재 경기의 홈팀 최종 점수</td>\n    </tr>\n    <tr>\n      <th>START_TM</th>\n      <td>13:59</td>\n      <td>경기 시작 시간</td>\n    </tr>\n    <tr>\n      <th>END_TM</th>\n      <td>16:59</td>\n      <td>경기 종료 시간</td>\n    </tr>\n    <tr>\n      <th>USE_TM</th>\n      <td>3:00</td>\n      <td>경기 진행 시간</td>\n    </tr>\n    <tr>\n      <th>FULL_HOME_NM</th>\n      <td>두산 베어스</td>\n      <td>홈팀 전체 이름</td>\n    </tr>\n    <tr>\n      <th>FULL_AWAY_NM</th>\n      <td>KIA 타이거즈</td>\n      <td>원정팀 전체 이름</td>\n    </tr>\n    <tr>\n      <th>maxInning</th>\n      <td>12</td>\n      <td>최대 이닝수</td>\n    </tr>\n  </tbody>\n</table>\n</div>"
     },
     "execution_count": 767,
     "metadata": {},
     "output_type": "execute_result"
    }
   ],
   "source": [
    "tmp = get_Gameinfo(scoreboardPath)\n",
    "tmp['뜻'] = ['포스트 시즌(4), 시범경기(1), 정규시즌(0)',\n",
    "            '게임의 고유 ID. 연월일 + 원정팀 구단코드(2자리) + 홈팀 구단코드(2자리) + 0',\n",
    "            '경기날짜(연월일)',\n",
    "            '연도',\n",
    "            '홈팀 이름',\n",
    "            '홈팀 ID(2자리)',\n",
    "            '원정팀 이름',\n",
    "            '원정팀 ID(2자리)',\n",
    "            '경기장',\n",
    "            '관객수',\n",
    "            '홈팀 전적(승)',\n",
    "            '홈팀 전적(패)',\n",
    "            '홈팀 전적(무)',\n",
    "            '원정팀 전적(승)',\n",
    "            '원정팀 전적(패)',\n",
    "            '원정팀 전적(무)',\n",
    "            '현재 경기의 원정팀 최종 점수',\n",
    "            '현재 경기의 홈팀 최종 점수',\n",
    "            '경기 시작 시간',\n",
    "            '경기 종료 시간',\n",
    "            '경기 진행 시간',\n",
    "            '홈팀 전체 이름',\n",
    "            '원정팀 전체 이름',\n",
    "            '최대 이닝수']\n",
    "tmp"
   ],
   "metadata": {
    "collapsed": false,
    "pycharm": {
     "name": "#%%\n"
    }
   }
  }
 ],
 "metadata": {
  "kernelspec": {
   "display_name": "Python 3 (ipykernel)",
   "language": "python",
   "name": "python3"
  },
  "language_info": {
   "codemirror_mode": {
    "name": "ipython",
    "version": 3
   },
   "file_extension": ".py",
   "mimetype": "text/x-python",
   "name": "python",
   "nbconvert_exporter": "python",
   "pygments_lexer": "ipython3",
   "version": "3.9.7"
  }
 },
 "nbformat": 4,
 "nbformat_minor": 5
}